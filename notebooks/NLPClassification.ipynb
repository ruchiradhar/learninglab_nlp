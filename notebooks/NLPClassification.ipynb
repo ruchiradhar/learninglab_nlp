{
 "cells": [
  {
   "cell_type": "markdown",
   "id": "944c004e-c87c-4542-98aa-ce6d4040c644",
   "metadata": {},
   "source": [
    "# Classification in NLP\n",
    "\n",
    "One of the most common tasks in NLP is to classify text into different categories. The most common example is sentiment classification where given a piece of text we try to classify into different categories of sentiment. \n",
    "\n",
    "However, computers dont understand natural language or text! So the first step is to convert the text into a form the computer understands. This involves a series of steps which include: \n",
    "\n",
    "1. Preprocessing: It involves converting text into a series of relevant tokens.\n",
    "2. Feature Extraction: The set of relevant tokens is converted into features.\n",
    "\n",
    "After this, we follow a typical supervised ML workflow i.e use the feature matrix and corresponding labels to train a classification model via: \n",
    "\n",
    "1. Weight Initialization\n",
    "2. Prediction\n",
    "3. Loss Calculation\n",
    "4. Backpropagation/ Gradient Calculation\n",
    "5. Weight Update\n",
    "\n",
    "And, ad libitum until we achieve a loss that is acceptably low according to some predetermined criterion. "
   ]
  },
  {
   "cell_type": "markdown",
   "id": "d2861157-7067-4471-bcac-416c8b69c6f0",
   "metadata": {},
   "source": [
    "## Preprocessing"
   ]
  }
 ],
 "metadata": {
  "kernelspec": {
   "display_name": "aienv",
   "language": "python",
   "name": "aienv"
  },
  "language_info": {
   "codemirror_mode": {
    "name": "ipython",
    "version": 3
   },
   "file_extension": ".py",
   "mimetype": "text/x-python",
   "name": "python",
   "nbconvert_exporter": "python",
   "pygments_lexer": "ipython3",
   "version": "3.10.15"
  }
 },
 "nbformat": 4,
 "nbformat_minor": 5
}
