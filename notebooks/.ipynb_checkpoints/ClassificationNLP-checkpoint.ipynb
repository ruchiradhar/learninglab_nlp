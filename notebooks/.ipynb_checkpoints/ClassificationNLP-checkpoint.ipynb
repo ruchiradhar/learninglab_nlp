{
 "cells": [
  {
   "cell_type": "markdown",
   "id": "944c004e-c87c-4542-98aa-ce6d4040c644",
   "metadata": {},
   "source": [
    "# Classification in NLP\n",
    "\n",
    "One of the most common tasks in NLP is to classify text into different categories. The most common example is sentiment classification where given a piece of text we try to classify into different categories of sentiment. \n",
    "\n",
    "However, computers dont understand natural language or text! So the first step is to convert the text into a form the computer understands. This involves a series of steps which include: \n",
    "\n",
    "1. Preprocessing: It involves converting text into a series of relevant tokens.\n",
    "2. Feature Extraction: The set of relevant tokens is converted into features.\n",
    "\n",
    "After this, we follow a typical supervised ML workflow i.e use the feature matrix and corresponding labels to train a classification model via: \n",
    "\n",
    "1. Prediction\n",
    "2. Loss Calculation\n",
    "3. Gradient Calculation\n",
    "4. Gradient Descent\n",
    "\n",
    "And, ad libitum weight updates until we achieve a loss that is acceptably low according to some predetermined criterion. "
   ]
  },
  {
   "cell_type": "markdown",
   "id": "d2861157-7067-4471-bcac-416c8b69c6f0",
   "metadata": {
    "jp-MarkdownHeadingCollapsed": true
   },
   "source": [
    "## Data Exploration\n",
    "\n",
    "Before any task, it is important to load and explore the dataset"
   ]
  },
  {
   "cell_type": "code",
   "execution_count": 1,
   "id": "b8fad715-f875-483d-b7bb-100a1a59ddf3",
   "metadata": {},
   "outputs": [
    {
     "name": "stderr",
     "output_type": "stream",
     "text": [
      "[nltk_data] Downloading package twitter_samples to\n",
      "[nltk_data]     /Users/ruchira/nltk_data...\n",
      "[nltk_data]   Package twitter_samples is already up-to-date!\n"
     ]
    }
   ],
   "source": [
    "# Imports and Downloads\n",
    "import nltk \n",
    "from nltk.corpus import twitter_samples\n",
    "nltk.download('twitter_samples')\n",
    "import random\n",
    "import matplotlib.pyplot as plt"
   ]
  },
  {
   "cell_type": "code",
   "execution_count": 2,
   "id": "e229bf4d-2064-4196-9147-c66dd6b6cb8d",
   "metadata": {},
   "outputs": [
    {
     "name": "stdout",
     "output_type": "stream",
     "text": [
      "Number of positive tweets:  5000\n",
      "Number of negative tweets:  5000\n",
      "The type of a tweet entry is:  <class 'str'>\n",
      "Sample tweet entry: @NightingaleMCPE Wait, we're not in the YouTube comment section of a video that slightly mentions science, are we? :)\n"
     ]
    }
   ],
   "source": [
    "# Explore text\n",
    "all_positive_tweets = twitter_samples.strings('positive_tweets.json')\n",
    "print('Number of positive tweets: ', len(all_positive_tweets))\n",
    "all_negative_tweets = twitter_samples.strings('negative_tweets.json')\n",
    "print('Number of negative tweets: ', len(all_negative_tweets))\n",
    "print('The type of a tweet entry is: ', type(all_negative_tweets[0]))\n",
    "print(f'Sample tweet entry: {all_positive_tweets[random.randint(0,5000)]}')"
   ]
  },
  {
   "cell_type": "code",
   "execution_count": 3,
   "id": "50b0ef1b-8e69-4bc1-971f-455c9c222575",
   "metadata": {},
   "outputs": [
    {
     "data": {
      "image/png": "[encoded data removed]",
      "text/plain": [
       "<Figure size 500x500 with 1 Axes>"
      ]
     },
     "metadata": {},
     "output_type": "display_data"
    }
   ],
   "source": [
    "# Visualize data\n",
    "# use pie chart with labels and sizes from our dataset\n",
    "fig = plt.figure(figsize=(5, 5))\n",
    "labels = ['Positives', 'Negatives']\n",
    "sizes = [len(all_positive_tweets), len(all_negative_tweets)] \n",
    "plt.pie(sizes, labels=labels, \n",
    "        shadow=True, startangle=90)\n",
    "plt.axis('equal')  \n",
    "plt.show()"
   ]
  },
  {
   "cell_type": "markdown",
   "id": "37015219-e661-4c50-bc7a-33ba0e894a7f",
   "metadata": {
    "jp-MarkdownHeadingCollapsed": true
   },
   "source": [
    "## Preprocessing\n",
    "\n",
    "This typically involves: \n",
    "\n",
    "1. Tokenization\n",
    "2. Lowercasing\n",
    "3. Punctuation Removal\n",
    "4. Stopword Removal\n",
    "5. Stemming/Lemmatization\n",
    "\n",
    "Once each text has been converted into a list of relevant tokens, we extract the corpus vocabulary.\n",
    "\n",
    "Vocabulary: It is the list of unique tokens present in the entire set of texts. "
   ]
  },
  {
   "cell_type": "code",
   "execution_count": 4,
   "id": "3f9845ca-fdbd-48fb-a9d4-60e2e087c3b1",
   "metadata": {},
   "outputs": [],
   "source": [
    "# Imports and downloads\n",
    "from nltk.tokenize import TweetTokenizer \n",
    "import string \n",
    "from nltk.corpus import stopwords \n",
    "stopwords_english = stopwords.words('english') \n",
    "from nltk.stem import PorterStemmer  "
   ]
  },
  {
   "cell_type": "code",
   "execution_count": 5,
   "id": "7537dfca-f86f-49b9-be5f-b18acb60bbe1",
   "metadata": {},
   "outputs": [
    {
     "data": {
      "text/plain": [
       "['heart', 'slide', 'wast', 'basket', ':(']"
      ]
     },
     "execution_count": 5,
     "metadata": {},
     "output_type": "execute_result"
    }
   ],
   "source": [
    "# Preprocessing Function\n",
    "\n",
    "def preprocess_tweet(text)-> list: \n",
    "    ''' It takes tweet string as input and preprocesses it by tokenization, punctuation removal, stopword removal, and stemming\n",
    "    The output is a list of tokens'''\n",
    "    \n",
    "    # tokenize\n",
    "    tokenizer = TweetTokenizer(preserve_case=False, strip_handles=True,\n",
    "                               reduce_len=True)\n",
    "    tokenized= tokenizer.tokenize(text)\n",
    "    # lowercasing\n",
    "    lowered=[word.lower() for word in tokenized]\n",
    "    # punctuation and stopword removal\n",
    "    cleaned=[word for word in lowered if (word not in stopwords_english and word not in string.punctuation) ]\n",
    "    # stemming\n",
    "    stemmer = PorterStemmer() \n",
    "    stemmed=[stemmer.stem(word) for word in cleaned]\n",
    "\n",
    "    return stemmed\n",
    "\n",
    "preprocess_tweet(all_negative_tweets[2])"
   ]
  },
  {
   "cell_type": "code",
   "execution_count": 6,
   "id": "d0da0909-f286-41b4-86ed-ee8acd7efe9e",
   "metadata": {},
   "outputs": [
    {
     "name": "stdout",
     "output_type": "stream",
     "text": [
      "<class 'list'>\n",
      "10000\n",
      "<class 'str'>\n",
      "#FollowFriday @France_Inte @PKuchly57 @Milipol_Paris for being top engaged members in my community this week :)\n",
      "['#followfriday', 'top', 'engag', 'member', 'commun', 'week', ':)']\n",
      "['#followfriday', 'top', 'engag', 'member', 'commun', 'week', ':)', 'hey', 'jame', 'odd', ':/', 'pleas', 'call', 'contact', 'centr', '02392441234', 'abl', 'assist', 'mani', 'thank', 'listen', 'last', 'night', 'bleed', 'amaz', 'track', 'scotland', 'congrat', 'yeaaah', 'yipppi', 'accnt', 'verifi', 'rqst', 'succeed', 'got', 'blue', 'tick', 'mark', 'fb', 'profil', '15', 'day', 'one', 'irresist', '#flipkartfashionfriday', 'http://t.co/ebz0l2venm', 'like', 'keep', 'love', 'custom']\n",
      "12407\n"
     ]
    }
   ],
   "source": [
    "# Vocabulary Extraction\n",
    "# prepping corpus\n",
    "tweets= all_positive_tweets + all_negative_tweets\n",
    "print(type(tweets))\n",
    "print(len(tweets))\n",
    "print(type(tweets[0]))\n",
    "print(tweets[0])\n",
    "\n",
    "# preprocess corpus\n",
    "processed_tweets= [preprocess_tweet(tweet) for tweet in tweets]\n",
    "print(processed_tweets[0])\n",
    "\n",
    "# vocabulary\n",
    "vocabulary=[]\n",
    "for tweet in processed_tweets:\n",
    "    for token in tweet:\n",
    "        if token not in vocabulary:\n",
    "            vocabulary.append(token)\n",
    "print(vocabulary[:50])\n",
    "print(len(vocabulary))"
   ]
  },
  {
   "cell_type": "markdown",
   "id": "a83c52ee-5cae-401e-a41b-d107a5f1e785",
   "metadata": {
    "jp-MarkdownHeadingCollapsed": true
   },
   "source": [
    "## Feature Extraction\n",
    "\n",
    "Since models cannot read text, we need to convert the text into a feature vector.  This can be done in two ways: \n",
    "\n",
    "### One Hot Encoding\n",
    "\n",
    "Each text is converted into a feature vector of length of the vocabulary. Each entry in the vector indicates whether a word in the vocab is present in the text.\n",
    "   \n",
    "### Frequency Encoding\n",
    "\n",
    "Each text is converted into feature vector of length 3 where each value is: \n",
    "\n",
    "1. Bias of the model\n",
    "2. Positive Frequency: For each word in text, sum over the number of times that word occurs in positive tweets\n",
    "3. Negative Frequency: For each word in text, sum over the number of times that word occurs in negative tweets\n",
    "\n",
    "The first step is to create a frequency dictionary where each word $w$ has two entries:  $(w,1)$ (number of times the word is in a positive tweet) and $(w,0)$ (number of times the word is in a negative tweet). "
   ]
  },
  {
   "cell_type": "code",
   "execution_count": 7,
   "id": "361bbab3-b068-47f6-ad44-ece77e4b1351",
   "metadata": {},
   "outputs": [],
   "source": [
    "# Imports and downloads\n",
    "import numpy as np"
   ]
  },
  {
   "cell_type": "code",
   "execution_count": 8,
   "id": "b58bcd8e-17a5-41fa-90a5-2764d0eff7b5",
   "metadata": {},
   "outputs": [
    {
     "name": "stdout",
     "output_type": "stream",
     "text": [
      "['#followfriday', 'top', 'engag', 'member', 'commun', 'week', ':)']\n",
      "1.0\n"
     ]
    }
   ],
   "source": [
    "# Load preprocessed tweets\n",
    "print(processed_tweets[0])\n",
    "\n",
    "# Get label list with 1/0 for all tweets\n",
    "labels = np.append(np.ones((len(all_positive_tweets))), np.zeros((len(all_negative_tweets))))\n",
    "print(labels[0])"
   ]
  },
  {
   "cell_type": "code",
   "execution_count": 9,
   "id": "30601f06-15eb-4a98-ac40-ac2f34fcda12",
   "metadata": {},
   "outputs": [],
   "source": [
    "# Building word frequency dictionary \n",
    "\n",
    "def build_freqs(tweets, ys):\n",
    "    \"\"\"Build frequencies.\n",
    "    Input:\n",
    "        tweets: a list of tweets\n",
    "        ys: an m x 1 array with the sentiment label of each tweet\n",
    "            (either 0 or 1)\n",
    "    Output:\n",
    "        freqs: a dictionary mapping each (word, sentiment) pair to its\n",
    "        frequency\n",
    "    \"\"\"\n",
    "    # convert np array to list since zip needs an iterable.\n",
    "    # The squeeze is necessary or the list ends up with one element.\n",
    "    yslist = np.squeeze(ys).tolist()\n",
    "\n",
    "    # looping over all tweets and over all processed words in each tweet.\n",
    "    freqs = {}\n",
    "    for y, tweet in zip(yslist, tweets):\n",
    "        for word in tweet:\n",
    "            pair = (word, y)\n",
    "            if pair in freqs:\n",
    "                freqs[pair] += 1\n",
    "            else:\n",
    "                freqs[pair] = 1    \n",
    "    return freqs"
   ]
  },
  {
   "cell_type": "code",
   "execution_count": 10,
   "id": "bed25cb9-877f-4096-994c-1a0db2a7fde8",
   "metadata": {},
   "outputs": [
    {
     "name": "stdout",
     "output_type": "stream",
     "text": [
      "type(freqs) = <class 'dict'>\n",
      "len(freqs) = 15063\n"
     ]
    }
   ],
   "source": [
    "# create frequency dictionary\n",
    "freqs = build_freqs(processed_tweets, labels)\n",
    "\n",
    "# check data type\n",
    "print(f'type(freqs) = {type(freqs)}')\n",
    "\n",
    "# check length of the dictionary\n",
    "print(f'len(freqs) = {len(freqs)}')"
   ]
  },
  {
   "cell_type": "code",
   "execution_count": 13,
   "id": "1f84eb64-7f6c-4e18-8350-b39d40179e5e",
   "metadata": {},
   "outputs": [],
   "source": [
    "# extracting features\n",
    "def extract_features(tweet, freqs, process_tweet=preprocess_tweet):\n",
    "    '''\n",
    "    Input: \n",
    "        tweet: a string containing one tweet\n",
    "        freqs: a dictionary corresponding to the frequencies of each tuple (word, label)\n",
    "    Output: \n",
    "        x: a feature vector of dimension (1,3)\n",
    "    '''\n",
    "    # process_tweet tokenizes, stems, and removes stopwords\n",
    "    word_l = preprocess_tweet(tweet)\n",
    "    \n",
    "    # 3 elements for [bias, positive, negative] counts\n",
    "    x = np.zeros(3) \n",
    "    \n",
    "    # bias term is set to 1\n",
    "    x[0] = 1 \n",
    "    \n",
    "    # loop through each word in the list of words\n",
    "    for word in word_l:\n",
    "        # look up frequency for (word,1) (positive sentiment)\n",
    "        x[1] += freqs.get((word, 1), 0)\n",
    "        \n",
    "        # look up frequency for (word,0) (negative sentiment)\n",
    "        x[2] += freqs.get((word, 0), 0)\n",
    "    \n",
    "    x = x[None, :]  # adding batch dimension for further processing\n",
    "    assert(x.shape == (1, 3))\n",
    "    return x"
   ]
  },
  {
   "cell_type": "markdown",
   "id": "0b50dc99-7a13-4d17-a2f1-bff4ac2f5727",
   "metadata": {
    "jp-MarkdownHeadingCollapsed": true
   },
   "source": [
    "## Logistic Regression\n",
    "\n",
    "The next step is to build a logistic regression using the extracted features. A logistic regression takes a regular linear regression and then applies a sigmoid function to bound output as a probability between [0,1]. \n",
    "\n",
    "### Prediction\n",
    "\n",
    "\n",
    "$$ h(z) = \\frac{1}{1+\\exp^{-z}}$$\n",
    "$$z = \\theta_0 x_0 + \\theta_1 x_1 + \\theta_2 x_2 + ... \\theta_N x_N$$\n",
    "\n",
    "Note: The $\\theta$ represents the weights of the model and the 'z' output is known as the logits.\n",
    "\n",
    "### Loss Calculation\n",
    "The cost function used for logistic regression is the average of the log loss across all training examples:\n",
    "\n",
    "$$J(\\theta) = -\\frac{1}{m} \\sum_{i=1}^m y^{(i)}\\log (h(z(\\theta)^{(i)})) + (1-y^{(i)})\\log (1-h(z(\\theta)^{(i)}))\\tag{5} $$\n",
    "* $m$ is the number of training examples\n",
    "* $y^{(i)}$ is the actual label of training example 'i'.\n",
    "* $h(z^{(i)})$ is the model's prediction for the training example 'i'.\n",
    "\n",
    "The loss function for a single training example is\n",
    "$$ Loss = -1 \\times \\left( y^{(i)}\\log (h(z(\\theta)^{(i)})) + (1-y^{(i)})\\log (1-h(z(\\theta)^{(i)})) \\right)$$\n",
    "\n",
    "* All the $h$ values are between 0 and 1, so the logs will be negative. That is the reason for the factor of -1 applied to the sum of the two loss terms.\n",
    "* When the model predicts 1 ($h(z(\\theta)) = 1$) and the label 'y' is also 1, the loss for that training example is 0. \n",
    "* When the model predicts 0 ($h(z(\\theta)) = 0$) and the actual label is also 0, the loss for that training example is 0.\n",
    "\n",
    "### Gradient Calculation\n",
    "The gradient of the cost function $J$ with respect to one of the weights $\\theta_j$ is:\n",
    "\n",
    "$$\\nabla_{\\theta_j}J(\\theta) = \\frac{1}{m} \\sum_{i=1}^m(h^{(i)}-y^{(i)})x^{(i)}_j \\tag{5}$$\n",
    "* 'i' is the index across all 'm' training examples.\n",
    "* 'j' is the index of the weight $\\theta_j$, so $x^{(i)}_j$ is the feature value associated with weight $\\theta_j$\n",
    "*  The product  $(h^{(i)} - y^{(i)}) x^{(i)}_j$ indicates  how much feature $j$ contributed to error for example $i$\n",
    "*  The gradient value indicates the rate of change of of cost and a positive gradient indicates increasing $\\theta_j$ will increase cost $J$ (which we want to lower).\n",
    "\n",
    "### Gradient Descent\n",
    "\n",
    "Using the calculated gradient, the weight is adjusted according to a learning parameter (slow or fast descent). To update the weight $\\theta_j$, we adjust it by subtracting a fraction of the gradient determined by $\\alpha$:\n",
    "\n",
    "$$\\theta_j = \\theta_j - \\alpha \\times \\nabla_{\\theta_j}J(\\theta) $$\n",
    "\n",
    "* The learning rate $\\alpha$ is a value that we choose to control how big a single update will be.\n",
    "* If the gradient is positive, the weight is reduced.\n",
    "* If the gradient is negative, the weight gets increased."
   ]
  },
  {
   "cell_type": "code",
   "execution_count": 14,
   "id": "aa092a11-a2e7-4d73-8e2f-712793429541",
   "metadata": {},
   "outputs": [],
   "source": [
    "# Imports and downloads\n",
    "import numpy as np"
   ]
  },
  {
   "cell_type": "code",
   "execution_count": 15,
   "id": "8134ca0b-7746-43a1-b964-3975526191f1",
   "metadata": {},
   "outputs": [
    {
     "name": "stdout",
     "output_type": "stream",
     "text": [
      "The train data is as follows\n",
      "train_x.shape = 8000\n",
      "train_y.shape = (8000, 1)\n",
      "The test data is as follows\n",
      "test_x.shape = 2000\n",
      "test_y.shape = (2000, 1)\n"
     ]
    }
   ],
   "source": [
    "# Load and split data\n",
    "# tweets \n",
    "train_pos = all_positive_tweets[:4000]\n",
    "test_pos = all_positive_tweets[4000:]\n",
    "test_neg = all_negative_tweets[4000:]\n",
    "train_neg = all_negative_tweets[:4000]\n",
    "\n",
    "train_x = train_pos + train_neg \n",
    "test_x = test_pos + test_neg\n",
    "\n",
    "# labels\n",
    "train_y= np.append(np.ones((len(train_pos),1)), np.zeros((len(train_neg),1)), axis=0) #1D array append along row\n",
    "test_y = np.append(np.ones((len(test_pos), 1)), np.zeros((len(test_neg), 1)), axis=0)\n",
    "\n",
    "#verify data shape for train and test\n",
    "print(\"The train data is as follows\")\n",
    "print(\"train_x.shape = \" + str(len(train_x)))\n",
    "print(\"train_y.shape = \" + str(train_y.shape))\n",
    "\n",
    "print(\"The test data is as follows\")\n",
    "print(\"test_x.shape = \" + str(len(test_x)))\n",
    "print(\"test_y.shape = \" + str(test_y.shape))"
   ]
  },
  {
   "cell_type": "code",
   "execution_count": 16,
   "id": "53345933-3948-4b1a-9dcf-e17a96be1c5f",
   "metadata": {},
   "outputs": [],
   "source": [
    "# Preprocess data\n",
    "processed_train= [preprocess_tweet(tweet) for tweet in train_x]\n",
    "processed_test= [preprocess_tweet(tweet) for tweet in test_x]"
   ]
  },
  {
   "cell_type": "code",
   "execution_count": 17,
   "id": "c2a76bf3-fed5-4a58-903b-717e38c14cfa",
   "metadata": {},
   "outputs": [
    {
     "name": "stdout",
     "output_type": "stream",
     "text": [
      "type(freqs) = <class 'dict'>\n",
      "len(freqs) = 12961\n"
     ]
    }
   ],
   "source": [
    "# Prepare frequency dictionary\n",
    "freqs = build_freqs(processed_train, train_y)\n",
    "\n",
    "# check the output\n",
    "print(\"type(freqs) = \" + str(type(freqs)))\n",
    "print(\"len(freqs) = \" + str(len(freqs.keys())))"
   ]
  },
  {
   "cell_type": "code",
   "execution_count": 18,
   "id": "a0ab2463-e85c-4c98-8958-81c1c9a631b6",
   "metadata": {},
   "outputs": [],
   "source": [
    "# Prediction function\n",
    "def sigmoid(z): \n",
    "    '''\n",
    "    Input:\n",
    "        z: is the input (can be a scalar or an array)\n",
    "    Output:\n",
    "        h: the sigmoid of z\n",
    "    '''\n",
    "    h = 1/(1+np.exp(-z))\n",
    "    \n",
    "    return h"
   ]
  },
  {
   "cell_type": "code",
   "execution_count": 19,
   "id": "d1388cba-2b83-4e33-9eac-6ece1656622b",
   "metadata": {},
   "outputs": [],
   "source": [
    "# Gradient Descent function\n",
    "def gradientDescent(x, y, theta, alpha, num_iters):\n",
    "    '''\n",
    "    Input:\n",
    "        x: matrix of features which is (m, n+1)\n",
    "        y: corresponding labels of the input matrix x, dimensions (m, 1)\n",
    "        theta: weight vector of dimension (n+1, 1)\n",
    "        alpha: learning rate\n",
    "        num_iters: number of iterations you want to train your model for\n",
    "    Output:\n",
    "        J: the final cost\n",
    "        theta: your final weight vector'''\n",
    "    m = x.shape[0]                         # number of examples\n",
    "\n",
    "    for _ in range(num_iters):\n",
    "        z = x @ theta                      # (m,1)\n",
    "        h = sigmoid(z)                     # (m,1)\n",
    "\n",
    "        # cost (log loss)\n",
    "        J = -(1/m) * (y.T @ np.log(h) + (1 - y).T @ np.log(1 - h))\n",
    "\n",
    "        # gradient step\n",
    "        theta = theta - (alpha/m) * (x.T @ (h - y))\n",
    "        #print(float(J))  \n",
    "\n",
    "    J = float(J)                         \n",
    "    return J, theta"
   ]
  },
  {
   "cell_type": "code",
   "execution_count": 20,
   "id": "a4c7d031-191e-427e-8ef3-643868b1850e",
   "metadata": {},
   "outputs": [
    {
     "name": "stdout",
     "output_type": "stream",
     "text": [
      "The cost after training is 0.22516587.\n",
      "The resulting vector of weights is [np.float64(6e-08), np.float64(0.00053776), np.float64(-0.00055899)]\n"
     ]
    },
    {
     "name": "stderr",
     "output_type": "stream",
     "text": [
      "/var/folders/3x/5gg1gj414mn7flh45l9cm7_80000gn/T/ipykernel_11087/2982187069.py:26: DeprecationWarning: Conversion of an array with ndim > 0 to a scalar is deprecated, and will error in future. Ensure you extract a single element from your array before performing this operation. (Deprecated NumPy 1.25.)\n",
      "  J = float(J)\n"
     ]
    }
   ],
   "source": [
    "# Model Training\n",
    "# collect the features 'x' and stack them into a matrix 'X'\n",
    "X = np.zeros((len(train_x), 3))\n",
    "for i in range(len(train_x)):\n",
    "    X[i, :]= extract_features(train_x[i], freqs)\n",
    "\n",
    "# training labels corresponding to X\n",
    "Y = train_y\n",
    "\n",
    "# Apply gradient descent\n",
    "J, theta = gradientDescent(X, Y, np.zeros((3, 1)), 1e-9, 1500)\n",
    "print(f\"The cost after training is {J:.8f}.\")\n",
    "print(f\"The resulting vector of weights is {[round(t, 8) for t in np.squeeze(theta)]}\")"
   ]
  },
  {
   "cell_type": "code",
   "execution_count": 21,
   "id": "9d681df4-ba89-48af-a508-b3f3658cf68f",
   "metadata": {},
   "outputs": [
    {
     "data": {
      "text/plain": [
       "array([[0.83092719]])"
      ]
     },
     "execution_count": 21,
     "metadata": {},
     "output_type": "execute_result"
    }
   ],
   "source": [
    "# Test prediction\n",
    "def predict_tweet(tweet, freqs, theta):\n",
    "    '''\n",
    "    Input: \n",
    "        tweet: a string\n",
    "        freqs: a dictionary corresponding to the frequencies of each tuple (word, label)\n",
    "        theta: (3,1) vector of weights\n",
    "    Output: \n",
    "        y_pred: the probability of a tweet being positive\n",
    "    '''\n",
    "    \n",
    "    # extract the features of the tweet and store it into x\n",
    "    x = extract_features(tweet, freqs)     # shape (1,3)\n",
    "    \n",
    "    # make the prediction using x and theta\n",
    "    z = np.dot(x, theta)                   # shape (1,1)\n",
    "    y_pred = sigmoid(z)                    # probability in (0,1)\n",
    "    \n",
    "    return y_pred\n",
    "\n",
    "# check the sentiment tweet below\n",
    "my_tweet = 'I am learning :)'\n",
    "predict_tweet(my_tweet, freqs, theta)"
   ]
  },
  {
   "cell_type": "code",
   "execution_count": 22,
   "id": "5b0da14b-ccaf-4caf-84c2-c51caea3a32f",
   "metadata": {},
   "outputs": [
    {
     "name": "stdout",
     "output_type": "stream",
     "text": [
      "Logistic regression model's accuracy = 0.9970\n"
     ]
    }
   ],
   "source": [
    "# Model Testing\n",
    "def test_logistic_regression(test_x, test_y, freqs, theta, predict_tweet=predict_tweet):\n",
    "    \"\"\"\n",
    "    Input: \n",
    "        test_x: a list of tweets\n",
    "        test_y: (m, 1) vector with the corresponding labels for the list of tweets\n",
    "        freqs: a dictionary with the frequency of each pair (or tuple)\n",
    "        theta: weight vector of dimension (3, 1)\n",
    "    Output: \n",
    "        accuracy: (# of tweets classified correctly) / (total # of tweets)\n",
    "    \"\"\"\n",
    "    \n",
    "    \n",
    "    # the list for storing predictions\n",
    "    y_hat = []\n",
    "    \n",
    "    for tweet in test_x:\n",
    "        # get the label prediction for the tweet\n",
    "        y_pred = predict_tweet(tweet, freqs, theta)\n",
    "        \n",
    "        if y_pred > 0.5:\n",
    "            # append 1.0 to the list\n",
    "            y_hat.append(1.0)\n",
    "        else:\n",
    "            # append 0.0 to the list\n",
    "            y_hat.append(0.0)\n",
    "\n",
    "    # convert both to one-dimensional arrays\n",
    "    y_hat = np.array(y_hat)\n",
    "    test_y = np.squeeze(test_y)   # ensures shape is (m,)\n",
    "    \n",
    "    # compute accuracy\n",
    "    accuracy = np.mean(y_hat == test_y)\n",
    "\n",
    "    \n",
    "    return accuracy\n",
    "\n",
    "tmp_accuracy = test_logistic_regression(test_x, test_y, freqs, theta)\n",
    "print(f\"Logistic regression model's accuracy = {tmp_accuracy:.4f}\")"
   ]
  },
  {
   "cell_type": "markdown",
   "id": "74047228-4237-4ccc-8940-c258af5f8726",
   "metadata": {},
   "source": [
    "## Naive Bayes"
   ]
  },
  {
   "cell_type": "code",
   "execution_count": null,
   "id": "80fe0844-b683-4451-95ea-8d602092fb1d",
   "metadata": {},
   "outputs": [],
   "source": []
  }
 ],
 "metadata": {
  "kernelspec": {
   "display_name": "aienv",
   "language": "python",
   "name": "aienv"
  },
  "language_info": {
   "codemirror_mode": {
    "name": "ipython",
    "version": 3
   },
   "file_extension": ".py",
   "mimetype": "text/x-python",
   "name": "python",
   "nbconvert_exporter": "python",
   "pygments_lexer": "ipython3",
   "version": "3.10.15"
  }
 },
 "nbformat": 4,
 "nbformat_minor": 5
}
